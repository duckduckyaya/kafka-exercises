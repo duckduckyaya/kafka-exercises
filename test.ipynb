{
 "cells": [
  {
   "cell_type": "code",
   "execution_count": 2,
   "metadata": {},
   "outputs": [],
   "source": [
    "import json"
   ]
  },
  {
   "cell_type": "code",
   "execution_count": 3,
   "metadata": {},
   "outputs": [],
   "source": [
    "product_categories = {\n",
    "    \"Fruit\": [\"apple\", \"banana\", \"orange\", \"pear\", \"kiwi\"],\n",
    "    \"Bakery\": [\"bread\", \"croissant\", \"baguette\", \"cake\"],\n",
    "    \"Drink\": [\"water\", \"soda\", \"beer\", \"wine\"],\n",
    "}"
   ]
  },
  {
   "cell_type": "code",
   "execution_count": 4,
   "metadata": {},
   "outputs": [],
   "source": [
    "def categorize_products(order):\n",
    "    for product in order[\"products\"]:\n",
    "        name = product[\"name\"].lower()\n",
    "        for category, products in product_categories.items():\n",
    "            if name in products:\n",
    "                product[\"category\"] = category\n",
    "                break"
   ]
  },
  {
   "cell_type": "code",
   "execution_count": 5,
   "metadata": {},
   "outputs": [],
   "source": [
    "def process_order(order):\n",
    "    categorize_products(order)\n",
    "    total_price = sum(product[\"price\"] for product in order[\"products\"])\n",
    "    order[\"total_price\"] = total_price\n",
    "    return order"
   ]
  },
  {
   "cell_type": "code",
   "execution_count": 6,
   "metadata": {},
   "outputs": [
    {
     "data": {
      "text/plain": [
       "{'id': '123456789',\n",
       " 'store': 'Brussels',\n",
       " 'date': '2020-01-01',\n",
       " 'products': [{'id': '123456789',\n",
       "   'name': 'Banana',\n",
       "   'price': 1.5,\n",
       "   'category': 'Fruit'},\n",
       "  {'id': '123456789', 'name': 'Bread', 'price': 1.5, 'category': 'Bakery'},\n",
       "  {'id': '123456789', 'name': 'Water', 'price': 1.5, 'category': 'Drink'}],\n",
       " 'total_price': 4.5}"
      ]
     },
     "execution_count": 6,
     "metadata": {},
     "output_type": "execute_result"
    }
   ],
   "source": [
    "order = {\n",
    "    \"id\": \"123456789\",\n",
    "    \"store\": \"Brussels\",\n",
    "    \"date\": \"2020-01-01\",\n",
    "    \"products\": [\n",
    "        {\n",
    "            \"id\": \"123456789\",\n",
    "            \"name\": \"Banana\",\n",
    "            \"price\": 1.5\n",
    "        },\n",
    "        {\n",
    "            \"id\": \"123456789\",\n",
    "            \"name\": \"Bread\",\n",
    "            \"price\": 1.5\n",
    "        },\n",
    "        {\n",
    "            \"id\": \"123456789\",\n",
    "            \"name\": \"Water\",\n",
    "            \"price\": 1.5\n",
    "        }\n",
    "    ]\n",
    "}\n",
    "process_order(order)"
   ]
  }
 ],
 "metadata": {
  "kernelspec": {
   "display_name": "env",
   "language": "python",
   "name": "python3"
  },
  "language_info": {
   "codemirror_mode": {
    "name": "ipython",
    "version": 3
   },
   "file_extension": ".py",
   "mimetype": "text/x-python",
   "name": "python",
   "nbconvert_exporter": "python",
   "pygments_lexer": "ipython3",
   "version": "3.9.12"
  },
  "orig_nbformat": 4,
  "vscode": {
   "interpreter": {
    "hash": "f8681b2d644eec04207eec7c50e7ca9e9cb5d19b0379172ea5f14cf823dd4cbb"
   }
  }
 },
 "nbformat": 4,
 "nbformat_minor": 2
}
